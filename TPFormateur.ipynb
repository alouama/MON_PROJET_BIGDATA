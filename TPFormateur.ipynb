{
 "cells": [
  {
   "cell_type": "markdown",
   "id": "58542e76",
   "metadata": {},
   "source": [
    "## 1. Collecte de données"
   ]
  },
  {
   "cell_type": "code",
   "execution_count": 83,
   "id": "82b7edc1",
   "metadata": {},
   "outputs": [],
   "source": [
    "# Importation des bibliothèques\n",
    "import pandas as pd\n",
    "import numpy as np\n",
    "import seaborn as sns\n",
    "import matplotlib.pyplot as plt\n",
    "from sklearn.model_selection import train_test_split\n",
    "from sklearn.preprocessing import LabelEncoder, StandardScaler\n",
    "from sklearn.ensemble import RandomForestClassifier\n",
    "from sklearn.metrics import classification_report, confusion_matrix"
   ]
  },
  {
   "cell_type": "code",
   "execution_count": 85,
   "id": "47b68d41",
   "metadata": {},
   "outputs": [
    {
     "data": {
      "text/html": [
       "<div>\n",
       "<style scoped>\n",
       "    .dataframe tbody tr th:only-of-type {\n",
       "        vertical-align: middle;\n",
       "    }\n",
       "\n",
       "    .dataframe tbody tr th {\n",
       "        vertical-align: top;\n",
       "    }\n",
       "\n",
       "    .dataframe thead th {\n",
       "        text-align: right;\n",
       "    }\n",
       "</style>\n",
       "<table border=\"1\" class=\"dataframe\">\n",
       "  <thead>\n",
       "    <tr style=\"text-align: right;\">\n",
       "      <th></th>\n",
       "      <th>Age</th>\n",
       "      <th>Sexe</th>\n",
       "      <th>Région</th>\n",
       "      <th>Température</th>\n",
       "      <th>Humidité</th>\n",
       "      <th>Précipitations</th>\n",
       "      <th>Proximité_eau_stagnante</th>\n",
       "      <th>Type_habitat</th>\n",
       "      <th>Contracte_paludisme</th>\n",
       "    </tr>\n",
       "  </thead>\n",
       "  <tbody>\n",
       "    <tr>\n",
       "      <th>0</th>\n",
       "      <td>52</td>\n",
       "      <td>Homme</td>\n",
       "      <td>Ouest</td>\n",
       "      <td>28.504270</td>\n",
       "      <td>89.197807</td>\n",
       "      <td>238.259199</td>\n",
       "      <td>Non</td>\n",
       "      <td>Rural</td>\n",
       "      <td>Non</td>\n",
       "    </tr>\n",
       "    <tr>\n",
       "      <th>1</th>\n",
       "      <td>15</td>\n",
       "      <td>Femme</td>\n",
       "      <td>Nord</td>\n",
       "      <td>20.449386</td>\n",
       "      <td>87.907122</td>\n",
       "      <td>27.897192</td>\n",
       "      <td>Non</td>\n",
       "      <td>Urbain</td>\n",
       "      <td>Non</td>\n",
       "    </tr>\n",
       "    <tr>\n",
       "      <th>2</th>\n",
       "      <td>72</td>\n",
       "      <td>Homme</td>\n",
       "      <td>Ouest</td>\n",
       "      <td>25.373547</td>\n",
       "      <td>30.296399</td>\n",
       "      <td>176.460680</td>\n",
       "      <td>Oui</td>\n",
       "      <td>Rural</td>\n",
       "      <td>Non</td>\n",
       "    </tr>\n",
       "    <tr>\n",
       "      <th>3</th>\n",
       "      <td>61</td>\n",
       "      <td>Femme</td>\n",
       "      <td>Ouest</td>\n",
       "      <td>30.832684</td>\n",
       "      <td>87.108707</td>\n",
       "      <td>144.291867</td>\n",
       "      <td>Non</td>\n",
       "      <td>Urbain</td>\n",
       "      <td>Non</td>\n",
       "    </tr>\n",
       "    <tr>\n",
       "      <th>4</th>\n",
       "      <td>21</td>\n",
       "      <td>Homme</td>\n",
       "      <td>Est</td>\n",
       "      <td>32.669564</td>\n",
       "      <td>68.347196</td>\n",
       "      <td>192.697658</td>\n",
       "      <td>Oui</td>\n",
       "      <td>Urbain</td>\n",
       "      <td>Non</td>\n",
       "    </tr>\n",
       "  </tbody>\n",
       "</table>\n",
       "</div>"
      ],
      "text/plain": [
       "   Age   Sexe Région  Température   Humidité  Précipitations  \\\n",
       "0   52  Homme  Ouest    28.504270  89.197807      238.259199   \n",
       "1   15  Femme   Nord    20.449386  87.907122       27.897192   \n",
       "2   72  Homme  Ouest    25.373547  30.296399      176.460680   \n",
       "3   61  Femme  Ouest    30.832684  87.108707      144.291867   \n",
       "4   21  Homme    Est    32.669564  68.347196      192.697658   \n",
       "\n",
       "  Proximité_eau_stagnante Type_habitat Contracte_paludisme  \n",
       "0                     Non        Rural                 Non  \n",
       "1                     Non       Urbain                 Non  \n",
       "2                     Oui        Rural                 Non  \n",
       "3                     Non       Urbain                 Non  \n",
       "4                     Oui       Urbain                 Non  "
      ]
     },
     "execution_count": 85,
     "metadata": {},
     "output_type": "execute_result"
    }
   ],
   "source": [
    "# Chargement du jeu de données\n",
    "df = pd.read_csv(\"paludisme_data.csv\")\n",
    "df.head()"
   ]
  },
  {
   "cell_type": "markdown",
   "id": "ee7d9b15",
   "metadata": {},
   "source": [
    "## 2.Prétraitement des données "
   ]
  },
  {
   "cell_type": "code",
   "execution_count": 88,
   "id": "2ee4cac9",
   "metadata": {},
   "outputs": [
    {
     "data": {
      "text/plain": [
       "Index(['Age', 'Sexe', 'Région', 'Température', 'Humidité', 'Précipitations',\n",
       "       'Proximité_eau_stagnante', 'Type_habitat', 'Contracte_paludisme'],\n",
       "      dtype='object')"
      ]
     },
     "execution_count": 88,
     "metadata": {},
     "output_type": "execute_result"
    }
   ],
   "source": [
    "# Afficher la liste des colonnes\n",
    "df.columns"
   ]
  },
  {
   "cell_type": "code",
   "execution_count": 90,
   "id": "d8d3ed51",
   "metadata": {},
   "outputs": [
    {
     "name": "stdout",
     "output_type": "stream",
     "text": [
      "<class 'pandas.core.frame.DataFrame'>\n",
      "RangeIndex: 500 entries, 0 to 499\n",
      "Data columns (total 9 columns):\n",
      " #   Column                   Non-Null Count  Dtype  \n",
      "---  ------                   --------------  -----  \n",
      " 0   Age                      500 non-null    int64  \n",
      " 1   Sexe                     500 non-null    object \n",
      " 2   Région                   500 non-null    object \n",
      " 3   Température              500 non-null    float64\n",
      " 4   Humidité                 500 non-null    float64\n",
      " 5   Précipitations           500 non-null    float64\n",
      " 6   Proximité_eau_stagnante  500 non-null    object \n",
      " 7   Type_habitat             500 non-null    object \n",
      " 8   Contracte_paludisme      500 non-null    object \n",
      "dtypes: float64(3), int64(1), object(5)\n",
      "memory usage: 35.3+ KB\n"
     ]
    }
   ],
   "source": [
    "# Afficher les informations sur le dataframe\n",
    "df.info()"
   ]
  },
  {
   "cell_type": "code",
   "execution_count": 92,
   "id": "cebfac32",
   "metadata": {},
   "outputs": [
    {
     "data": {
      "text/plain": [
       "(500, 9)"
      ]
     },
     "execution_count": 92,
     "metadata": {},
     "output_type": "execute_result"
    }
   ],
   "source": [
    "# Afficher la dimension du jeu de données\n",
    "df.shape"
   ]
  },
  {
   "cell_type": "code",
   "execution_count": 94,
   "id": "d1c21533",
   "metadata": {},
   "outputs": [
    {
     "data": {
      "text/html": [
       "<div>\n",
       "<style scoped>\n",
       "    .dataframe tbody tr th:only-of-type {\n",
       "        vertical-align: middle;\n",
       "    }\n",
       "\n",
       "    .dataframe tbody tr th {\n",
       "        vertical-align: top;\n",
       "    }\n",
       "\n",
       "    .dataframe thead th {\n",
       "        text-align: right;\n",
       "    }\n",
       "</style>\n",
       "<table border=\"1\" class=\"dataframe\">\n",
       "  <thead>\n",
       "    <tr style=\"text-align: right;\">\n",
       "      <th></th>\n",
       "      <th>count</th>\n",
       "      <th>mean</th>\n",
       "      <th>std</th>\n",
       "      <th>min</th>\n",
       "      <th>25%</th>\n",
       "      <th>50%</th>\n",
       "      <th>75%</th>\n",
       "      <th>max</th>\n",
       "    </tr>\n",
       "  </thead>\n",
       "  <tbody>\n",
       "    <tr>\n",
       "      <th>Age</th>\n",
       "      <td>500.0</td>\n",
       "      <td>38.474000</td>\n",
       "      <td>22.360799</td>\n",
       "      <td>1.000000</td>\n",
       "      <td>19.000000</td>\n",
       "      <td>37.500000</td>\n",
       "      <td>58.250000</td>\n",
       "      <td>79.000000</td>\n",
       "    </tr>\n",
       "    <tr>\n",
       "      <th>Température</th>\n",
       "      <td>500.0</td>\n",
       "      <td>30.082886</td>\n",
       "      <td>5.944309</td>\n",
       "      <td>20.127717</td>\n",
       "      <td>24.668914</td>\n",
       "      <td>30.325290</td>\n",
       "      <td>35.251360</td>\n",
       "      <td>39.958682</td>\n",
       "    </tr>\n",
       "    <tr>\n",
       "      <th>Humidité</th>\n",
       "      <td>500.0</td>\n",
       "      <td>60.368016</td>\n",
       "      <td>17.323949</td>\n",
       "      <td>30.193096</td>\n",
       "      <td>45.051029</td>\n",
       "      <td>61.144247</td>\n",
       "      <td>74.779118</td>\n",
       "      <td>89.964824</td>\n",
       "    </tr>\n",
       "    <tr>\n",
       "      <th>Précipitations</th>\n",
       "      <td>500.0</td>\n",
       "      <td>147.480800</td>\n",
       "      <td>85.479403</td>\n",
       "      <td>0.469532</td>\n",
       "      <td>77.201379</td>\n",
       "      <td>148.601040</td>\n",
       "      <td>218.777152</td>\n",
       "      <td>299.504253</td>\n",
       "    </tr>\n",
       "  </tbody>\n",
       "</table>\n",
       "</div>"
      ],
      "text/plain": [
       "                count        mean        std        min        25%  \\\n",
       "Age             500.0   38.474000  22.360799   1.000000  19.000000   \n",
       "Température     500.0   30.082886   5.944309  20.127717  24.668914   \n",
       "Humidité        500.0   60.368016  17.323949  30.193096  45.051029   \n",
       "Précipitations  500.0  147.480800  85.479403   0.469532  77.201379   \n",
       "\n",
       "                       50%         75%         max  \n",
       "Age              37.500000   58.250000   79.000000  \n",
       "Température      30.325290   35.251360   39.958682  \n",
       "Humidité         61.144247   74.779118   89.964824  \n",
       "Précipitations  148.601040  218.777152  299.504253  "
      ]
     },
     "execution_count": 94,
     "metadata": {},
     "output_type": "execute_result"
    }
   ],
   "source": [
    "# Afficher les statistiques descriptive\n",
    "df.describe().T"
   ]
  },
  {
   "cell_type": "code",
   "execution_count": 96,
   "id": "933aa3e0",
   "metadata": {},
   "outputs": [
    {
     "data": {
      "text/plain": [
       "Age                        0\n",
       "Sexe                       0\n",
       "Région                     0\n",
       "Température                0\n",
       "Humidité                   0\n",
       "Précipitations             0\n",
       "Proximité_eau_stagnante    0\n",
       "Type_habitat               0\n",
       "Contracte_paludisme        0\n",
       "dtype: int64"
      ]
     },
     "execution_count": 96,
     "metadata": {},
     "output_type": "execute_result"
    }
   ],
   "source": [
    "# Rechercher le nombre valeur manquante\n",
    "df.isnull().sum()"
   ]
  },
  {
   "cell_type": "code",
   "execution_count": 98,
   "id": "a5f814e0",
   "metadata": {},
   "outputs": [
    {
     "data": {
      "text/plain": [
       "Région\n",
       "Est      133\n",
       "Sud      124\n",
       "Nord     122\n",
       "Ouest    121\n",
       "Name: count, dtype: int64"
      ]
     },
     "execution_count": 98,
     "metadata": {},
     "output_type": "execute_result"
    }
   ],
   "source": [
    "# frequence\n",
    "df[\"Région\"].value_counts()"
   ]
  },
  {
   "cell_type": "code",
   "execution_count": 100,
   "id": "b3b44006",
   "metadata": {},
   "outputs": [
    {
     "data": {
      "text/plain": [
       "Contracte_paludisme\n",
       "Non    345\n",
       "Oui    155\n",
       "Name: count, dtype: int64"
      ]
     },
     "execution_count": 100,
     "metadata": {},
     "output_type": "execute_result"
    }
   ],
   "source": [
    "df[\"Contracte_paludisme\"].value_counts()"
   ]
  },
  {
   "cell_type": "code",
   "execution_count": 102,
   "id": "31025060",
   "metadata": {},
   "outputs": [
    {
     "data": {
      "text/html": [
       "<div>\n",
       "<style scoped>\n",
       "    .dataframe tbody tr th:only-of-type {\n",
       "        vertical-align: middle;\n",
       "    }\n",
       "\n",
       "    .dataframe tbody tr th {\n",
       "        vertical-align: top;\n",
       "    }\n",
       "\n",
       "    .dataframe thead th {\n",
       "        text-align: right;\n",
       "    }\n",
       "</style>\n",
       "<table border=\"1\" class=\"dataframe\">\n",
       "  <thead>\n",
       "    <tr style=\"text-align: right;\">\n",
       "      <th>Contracte_paludisme</th>\n",
       "      <th>Non</th>\n",
       "      <th>Oui</th>\n",
       "    </tr>\n",
       "    <tr>\n",
       "      <th>Région</th>\n",
       "      <th></th>\n",
       "      <th></th>\n",
       "    </tr>\n",
       "  </thead>\n",
       "  <tbody>\n",
       "    <tr>\n",
       "      <th>Est</th>\n",
       "      <td>91</td>\n",
       "      <td>42</td>\n",
       "    </tr>\n",
       "    <tr>\n",
       "      <th>Nord</th>\n",
       "      <td>85</td>\n",
       "      <td>37</td>\n",
       "    </tr>\n",
       "    <tr>\n",
       "      <th>Ouest</th>\n",
       "      <td>81</td>\n",
       "      <td>40</td>\n",
       "    </tr>\n",
       "    <tr>\n",
       "      <th>Sud</th>\n",
       "      <td>88</td>\n",
       "      <td>36</td>\n",
       "    </tr>\n",
       "  </tbody>\n",
       "</table>\n",
       "</div>"
      ],
      "text/plain": [
       "Contracte_paludisme  Non  Oui\n",
       "Région                       \n",
       "Est                   91   42\n",
       "Nord                  85   37\n",
       "Ouest                 81   40\n",
       "Sud                   88   36"
      ]
     },
     "execution_count": 102,
     "metadata": {},
     "output_type": "execute_result"
    }
   ],
   "source": [
    "#Tableau croisé\n",
    "table = pd.crosstab(df['Région'], df['Contracte_paludisme'])\n",
    "table"
   ]
  },
  {
   "cell_type": "code",
   "execution_count": 104,
   "id": "7a4e6004",
   "metadata": {},
   "outputs": [
    {
     "data": {
      "text/html": [
       "<div>\n",
       "<style scoped>\n",
       "    .dataframe tbody tr th:only-of-type {\n",
       "        vertical-align: middle;\n",
       "    }\n",
       "\n",
       "    .dataframe tbody tr th {\n",
       "        vertical-align: top;\n",
       "    }\n",
       "\n",
       "    .dataframe thead th {\n",
       "        text-align: right;\n",
       "    }\n",
       "</style>\n",
       "<table border=\"1\" class=\"dataframe\">\n",
       "  <thead>\n",
       "    <tr style=\"text-align: right;\">\n",
       "      <th>Sexe</th>\n",
       "      <th>Femme</th>\n",
       "      <th>Homme</th>\n",
       "    </tr>\n",
       "    <tr>\n",
       "      <th>Région</th>\n",
       "      <th></th>\n",
       "      <th></th>\n",
       "    </tr>\n",
       "  </thead>\n",
       "  <tbody>\n",
       "    <tr>\n",
       "      <th>Est</th>\n",
       "      <td>58</td>\n",
       "      <td>75</td>\n",
       "    </tr>\n",
       "    <tr>\n",
       "      <th>Nord</th>\n",
       "      <td>62</td>\n",
       "      <td>60</td>\n",
       "    </tr>\n",
       "    <tr>\n",
       "      <th>Ouest</th>\n",
       "      <td>64</td>\n",
       "      <td>57</td>\n",
       "    </tr>\n",
       "    <tr>\n",
       "      <th>Sud</th>\n",
       "      <td>52</td>\n",
       "      <td>72</td>\n",
       "    </tr>\n",
       "  </tbody>\n",
       "</table>\n",
       "</div>"
      ],
      "text/plain": [
       "Sexe    Femme  Homme\n",
       "Région              \n",
       "Est        58     75\n",
       "Nord       62     60\n",
       "Ouest      64     57\n",
       "Sud        52     72"
      ]
     },
     "execution_count": 104,
     "metadata": {},
     "output_type": "execute_result"
    }
   ],
   "source": [
    "pd.crosstab(df['Région'], df['Sexe'])"
   ]
  },
  {
   "cell_type": "code",
   "execution_count": 106,
   "id": "f8bc07b2",
   "metadata": {},
   "outputs": [
    {
     "data": {
      "text/html": [
       "<div>\n",
       "<style scoped>\n",
       "    .dataframe tbody tr th:only-of-type {\n",
       "        vertical-align: middle;\n",
       "    }\n",
       "\n",
       "    .dataframe tbody tr th {\n",
       "        vertical-align: top;\n",
       "    }\n",
       "\n",
       "    .dataframe thead th {\n",
       "        text-align: right;\n",
       "    }\n",
       "</style>\n",
       "<table border=\"1\" class=\"dataframe\">\n",
       "  <thead>\n",
       "    <tr style=\"text-align: right;\">\n",
       "      <th></th>\n",
       "      <th>Age</th>\n",
       "      <th>Sexe</th>\n",
       "      <th>Région</th>\n",
       "      <th>Température</th>\n",
       "      <th>Humidité</th>\n",
       "      <th>Précipitations</th>\n",
       "      <th>Proximité_eau_stagnante</th>\n",
       "      <th>Type_habitat</th>\n",
       "      <th>Contracte_paludisme</th>\n",
       "    </tr>\n",
       "  </thead>\n",
       "  <tbody>\n",
       "    <tr>\n",
       "      <th>0</th>\n",
       "      <td>0.605504</td>\n",
       "      <td>1</td>\n",
       "      <td>2</td>\n",
       "      <td>-0.265834</td>\n",
       "      <td>1.665825</td>\n",
       "      <td>1.063055</td>\n",
       "      <td>0</td>\n",
       "      <td>0</td>\n",
       "      <td>0</td>\n",
       "    </tr>\n",
       "    <tr>\n",
       "      <th>1</th>\n",
       "      <td>-1.050835</td>\n",
       "      <td>0</td>\n",
       "      <td>1</td>\n",
       "      <td>-1.622249</td>\n",
       "      <td>1.591247</td>\n",
       "      <td>-1.400377</td>\n",
       "      <td>0</td>\n",
       "      <td>1</td>\n",
       "      <td>0</td>\n",
       "    </tr>\n",
       "    <tr>\n",
       "      <th>2</th>\n",
       "      <td>1.500822</td>\n",
       "      <td>1</td>\n",
       "      <td>2</td>\n",
       "      <td>-0.793037</td>\n",
       "      <td>-1.737579</td>\n",
       "      <td>0.339367</td>\n",
       "      <td>1</td>\n",
       "      <td>0</td>\n",
       "      <td>0</td>\n",
       "    </tr>\n",
       "    <tr>\n",
       "      <th>3</th>\n",
       "      <td>1.008397</td>\n",
       "      <td>0</td>\n",
       "      <td>2</td>\n",
       "      <td>0.126264</td>\n",
       "      <td>1.545114</td>\n",
       "      <td>-0.037344</td>\n",
       "      <td>0</td>\n",
       "      <td>1</td>\n",
       "      <td>0</td>\n",
       "    </tr>\n",
       "    <tr>\n",
       "      <th>4</th>\n",
       "      <td>-0.782239</td>\n",
       "      <td>1</td>\n",
       "      <td>0</td>\n",
       "      <td>0.435588</td>\n",
       "      <td>0.461048</td>\n",
       "      <td>0.529509</td>\n",
       "      <td>1</td>\n",
       "      <td>1</td>\n",
       "      <td>0</td>\n",
       "    </tr>\n",
       "  </tbody>\n",
       "</table>\n",
       "</div>"
      ],
      "text/plain": [
       "        Age  Sexe  Région  Température  Humidité  Précipitations  \\\n",
       "0  0.605504     1       2    -0.265834  1.665825        1.063055   \n",
       "1 -1.050835     0       1    -1.622249  1.591247       -1.400377   \n",
       "2  1.500822     1       2    -0.793037 -1.737579        0.339367   \n",
       "3  1.008397     0       2     0.126264  1.545114       -0.037344   \n",
       "4 -0.782239     1       0     0.435588  0.461048        0.529509   \n",
       "\n",
       "   Proximité_eau_stagnante  Type_habitat  Contracte_paludisme  \n",
       "0                        0             0                    0  \n",
       "1                        0             1                    0  \n",
       "2                        1             0                    0  \n",
       "3                        0             1                    0  \n",
       "4                        1             1                    0  "
      ]
     },
     "execution_count": 106,
     "metadata": {},
     "output_type": "execute_result"
    }
   ],
   "source": [
    "def preprocess_data(df):\n",
    "    label_encoders = {}\n",
    "    categorical_columns = [\"Sexe\", \"Région\", \"Proximité_eau_stagnante\", \"Type_habitat\", \"Contracte_paludisme\"]\n",
    "    for col in categorical_columns:\n",
    "        le = LabelEncoder()\n",
    "        df[col] = le.fit_transform(df[col])\n",
    "        label_encoders[col] = le\n",
    "\n",
    "    # Normalisation des variables numériques\n",
    "    scaler = StandardScaler()\n",
    "    numerical_columns = [\"Age\", \"Température\", \"Humidité\", \"Précipitations\"]\n",
    "    df[numerical_columns] = scaler.fit_transform(df[numerical_columns])\n",
    "\n",
    "    return df, label_encoders, scaler, numerical_columns\n",
    "\n",
    "df, label_encoders, scaler, numerical_columns = preprocess_data(df)\n",
    "df.head()"
   ]
  },
  {
   "cell_type": "markdown",
   "id": "6d01a401",
   "metadata": {},
   "source": [
    "### 3. Choix du modèle"
   ]
  },
  {
   "cell_type": "code",
   "execution_count": 109,
   "id": "a7127632",
   "metadata": {},
   "outputs": [],
   "source": [
    "### Decoupage en jeu entrainement et test\n",
    "def split_data(df):\n",
    "    X = df.drop(columns=[\"Contracte_paludisme\"])\n",
    "    y = df[\"Contracte_paludisme\"]\n",
    "    return train_test_split(X, y, test_size=0.2, random_state=42)\n",
    "\n",
    "X_train, X_test, y_train, y_test = split_data(df)"
   ]
  },
  {
   "cell_type": "markdown",
   "id": "ed1e52d4",
   "metadata": {},
   "source": [
    "### 4. Entraînement du modèle"
   ]
  },
  {
   "cell_type": "code",
   "execution_count": 112,
   "id": "d704885f",
   "metadata": {},
   "outputs": [],
   "source": [
    "#### Entraînement du modèle\n",
    "\n",
    "def train_model(X_train, y_train):\n",
    "    model = RandomForestClassifier(random_state=42)\n",
    "    model.fit(X_train, y_train)\n",
    "    return model\n",
    "\n",
    "model = train_model(X_train, y_train)"
   ]
  },
  {
   "cell_type": "markdown",
   "id": "2309add2",
   "metadata": {},
   "source": [
    "## 5. Evaluation du modele"
   ]
  },
  {
   "cell_type": "code",
   "execution_count": 115,
   "id": "59647485",
   "metadata": {},
   "outputs": [
    {
     "data": {
      "image/png": "[encoded data removed]",
      "text/plain": [
       "<Figure size 800x600 with 2 Axes>"
      ]
     },
     "metadata": {},
     "output_type": "display_data"
    },
    {
     "name": "stdout",
     "output_type": "stream",
     "text": [
      "\n",
      "Rapport de classification:\n",
      "\n",
      "              precision    recall  f1-score   support\n",
      "\n",
      "         Non       0.74      0.96      0.83        71\n",
      "         Oui       0.62      0.17      0.27        29\n",
      "\n",
      "    accuracy                           0.73       100\n",
      "   macro avg       0.68      0.57      0.55       100\n",
      "weighted avg       0.71      0.73      0.67       100\n",
      "\n"
     ]
    }
   ],
   "source": [
    "#### Évaluation du modèle\n",
    "\n",
    "def evaluate_model(model, X_test, y_test):\n",
    "    y_pred = model.predict(X_test)\n",
    "    report = classification_report(y_test, y_pred, target_names=[\"Non\", \"Oui\"], output_dict=False)\n",
    "    conf_matrix = confusion_matrix(y_test, y_pred)\n",
    "\n",
    "    # Visualisation de la matrice de confusion\n",
    "    plt.figure(figsize=(8, 6))\n",
    "    sns.heatmap(conf_matrix, annot=True, fmt=\"d\", cmap=\"Blues\", xticklabels=[\"Non\", \"Oui\"], yticklabels=[\"Non\", \"Oui\"])\n",
    "    plt.title(\"Matrice de confusion\")\n",
    "    plt.xlabel(\"Prédictions\")\n",
    "    plt.ylabel(\"Vrai label\")\n",
    "    plt.show()\n",
    "\n",
    "    print(\"\\nRapport de classification:\\n\")\n",
    "    print(report)\n",
    "\n",
    "evaluate_model(model, X_test, y_test)"
   ]
  },
  {
   "cell_type": "markdown",
   "id": "04d207db",
   "metadata": {},
   "source": [
    "### 6. Déploiement du modèle "
   ]
  },
  {
   "cell_type": "code",
   "execution_count": 118,
   "id": "f9d81a9e",
   "metadata": {},
   "outputs": [
    {
     "name": "stdout",
     "output_type": "stream",
     "text": [
      "Modèle sauvegardé sous: model_rf.pkl\n"
     ]
    }
   ],
   "source": [
    "#### Sauvegarde et chargement du modèle\n",
    "\n",
    "import joblib\n",
    "\n",
    "def save_model(model, file_name=\"model_rf.pkl\"):\n",
    "    joblib.dump(model, file_name)\n",
    "    print(f\"Modèle sauvegardé sous: {file_name}\")\n",
    "\n",
    "def load_model(file_name=\"model_rf.pkl\"):\n",
    "    return joblib.load(file_name)\n",
    "# Sauvegarde du modèle\n",
    "save_model(model)"
   ]
  },
  {
   "cell_type": "code",
   "execution_count": 120,
   "id": "1884f688-86b6-4af7-9bc6-50bc6d6458e2",
   "metadata": {},
   "outputs": [],
   "source": [
    "# Chargement pour utilisation future\n",
    "loaded_model = load_model()"
   ]
  },
  {
   "cell_type": "code",
   "execution_count": 122,
   "id": "16d33457",
   "metadata": {},
   "outputs": [],
   "source": [
    "#### Utilisation du modèle chargé pour une nouvelle prédiction\n",
    "def predict_new_data(model, new_data, scaler, numerical_columns):\n",
    "    # Appliquer le scaler uniquement sur les colonnes numériques\n",
    "    new_data[numerical_columns] = scaler.transform(new_data[numerical_columns])\n",
    "    return model.predict(new_data)"
   ]
  },
  {
   "cell_type": "code",
   "execution_count": 124,
   "id": "9d20596b",
   "metadata": {},
   "outputs": [],
   "source": [
    "# Exemple de donnée fictive\n",
    "new_data = pd.DataFrame({\n",
    "    \"Age\": [30],\n",
    "    \"Température\": [35],\n",
    "    \"Humidité\": [70],\n",
    "    \"Précipitations\": [150],\n",
    "    \"Sexe\": [0],\n",
    "    \"Région\": [1],\n",
    "    \"Proximité_eau_stagnante\": [1],\n",
    "    \"Type_habitat\": [0]\n",
    "})"
   ]
  },
  {
   "cell_type": "code",
   "execution_count": 128,
   "id": "1a8e1626",
   "metadata": {},
   "outputs": [
    {
     "ename": "ValueError",
     "evalue": "The feature names should match those that were passed during fit.\nFeature names must be in the same order as they were in fit.\n",
     "output_type": "error",
     "traceback": [
      "\u001b[1;31m---------------------------------------------------------------------------\u001b[0m",
      "\u001b[1;31mValueError\u001b[0m                                Traceback (most recent call last)",
      "Cell \u001b[1;32mIn[128], line 2\u001b[0m\n\u001b[0;32m      1\u001b[0m \u001b[38;5;66;03m# Prédiction pour la nouvelle donnée\u001b[39;00m\n\u001b[1;32m----> 2\u001b[0m new_prediction \u001b[38;5;241m=\u001b[39m predict_new_data(loaded_model, new_data, scaler, numerical_columns)\n",
      "Cell \u001b[1;32mIn[122], line 5\u001b[0m, in \u001b[0;36mpredict_new_data\u001b[1;34m(model, new_data, scaler, numerical_columns)\u001b[0m\n\u001b[0;32m      2\u001b[0m \u001b[38;5;28;01mdef\u001b[39;00m \u001b[38;5;21mpredict_new_data\u001b[39m(model, new_data, scaler, numerical_columns):\n\u001b[0;32m      3\u001b[0m     \u001b[38;5;66;03m# Appliquer le scaler uniquement sur les colonnes numériques\u001b[39;00m\n\u001b[0;32m      4\u001b[0m     new_data[numerical_columns] \u001b[38;5;241m=\u001b[39m scaler\u001b[38;5;241m.\u001b[39mtransform(new_data[numerical_columns])\n\u001b[1;32m----> 5\u001b[0m     \u001b[38;5;28;01mreturn\u001b[39;00m model\u001b[38;5;241m.\u001b[39mpredict(new_data)\n",
      "File \u001b[1;32m~\\anaconda3\\Lib\\site-packages\\sklearn\\ensemble\\_forest.py:904\u001b[0m, in \u001b[0;36mForestClassifier.predict\u001b[1;34m(self, X)\u001b[0m\n\u001b[0;32m    883\u001b[0m \u001b[38;5;28;01mdef\u001b[39;00m \u001b[38;5;21mpredict\u001b[39m(\u001b[38;5;28mself\u001b[39m, X):\n\u001b[0;32m    884\u001b[0m \u001b[38;5;250m    \u001b[39m\u001b[38;5;124;03m\"\"\"\u001b[39;00m\n\u001b[0;32m    885\u001b[0m \u001b[38;5;124;03m    Predict class for X.\u001b[39;00m\n\u001b[0;32m    886\u001b[0m \n\u001b[1;32m   (...)\u001b[0m\n\u001b[0;32m    902\u001b[0m \u001b[38;5;124;03m        The predicted classes.\u001b[39;00m\n\u001b[0;32m    903\u001b[0m \u001b[38;5;124;03m    \"\"\"\u001b[39;00m\n\u001b[1;32m--> 904\u001b[0m     proba \u001b[38;5;241m=\u001b[39m \u001b[38;5;28mself\u001b[39m\u001b[38;5;241m.\u001b[39mpredict_proba(X)\n\u001b[0;32m    906\u001b[0m     \u001b[38;5;28;01mif\u001b[39;00m \u001b[38;5;28mself\u001b[39m\u001b[38;5;241m.\u001b[39mn_outputs_ \u001b[38;5;241m==\u001b[39m \u001b[38;5;241m1\u001b[39m:\n\u001b[0;32m    907\u001b[0m         \u001b[38;5;28;01mreturn\u001b[39;00m \u001b[38;5;28mself\u001b[39m\u001b[38;5;241m.\u001b[39mclasses_\u001b[38;5;241m.\u001b[39mtake(np\u001b[38;5;241m.\u001b[39margmax(proba, axis\u001b[38;5;241m=\u001b[39m\u001b[38;5;241m1\u001b[39m), axis\u001b[38;5;241m=\u001b[39m\u001b[38;5;241m0\u001b[39m)\n",
      "File \u001b[1;32m~\\anaconda3\\Lib\\site-packages\\sklearn\\ensemble\\_forest.py:946\u001b[0m, in \u001b[0;36mForestClassifier.predict_proba\u001b[1;34m(self, X)\u001b[0m\n\u001b[0;32m    944\u001b[0m check_is_fitted(\u001b[38;5;28mself\u001b[39m)\n\u001b[0;32m    945\u001b[0m \u001b[38;5;66;03m# Check data\u001b[39;00m\n\u001b[1;32m--> 946\u001b[0m X \u001b[38;5;241m=\u001b[39m \u001b[38;5;28mself\u001b[39m\u001b[38;5;241m.\u001b[39m_validate_X_predict(X)\n\u001b[0;32m    948\u001b[0m \u001b[38;5;66;03m# Assign chunk of trees to jobs\u001b[39;00m\n\u001b[0;32m    949\u001b[0m n_jobs, _, _ \u001b[38;5;241m=\u001b[39m _partition_estimators(\u001b[38;5;28mself\u001b[39m\u001b[38;5;241m.\u001b[39mn_estimators, \u001b[38;5;28mself\u001b[39m\u001b[38;5;241m.\u001b[39mn_jobs)\n",
      "File \u001b[1;32m~\\anaconda3\\Lib\\site-packages\\sklearn\\ensemble\\_forest.py:641\u001b[0m, in \u001b[0;36mBaseForest._validate_X_predict\u001b[1;34m(self, X)\u001b[0m\n\u001b[0;32m    638\u001b[0m \u001b[38;5;28;01melse\u001b[39;00m:\n\u001b[0;32m    639\u001b[0m     force_all_finite \u001b[38;5;241m=\u001b[39m \u001b[38;5;28;01mTrue\u001b[39;00m\n\u001b[1;32m--> 641\u001b[0m X \u001b[38;5;241m=\u001b[39m \u001b[38;5;28mself\u001b[39m\u001b[38;5;241m.\u001b[39m_validate_data(\n\u001b[0;32m    642\u001b[0m     X,\n\u001b[0;32m    643\u001b[0m     dtype\u001b[38;5;241m=\u001b[39mDTYPE,\n\u001b[0;32m    644\u001b[0m     accept_sparse\u001b[38;5;241m=\u001b[39m\u001b[38;5;124m\"\u001b[39m\u001b[38;5;124mcsr\u001b[39m\u001b[38;5;124m\"\u001b[39m,\n\u001b[0;32m    645\u001b[0m     reset\u001b[38;5;241m=\u001b[39m\u001b[38;5;28;01mFalse\u001b[39;00m,\n\u001b[0;32m    646\u001b[0m     force_all_finite\u001b[38;5;241m=\u001b[39mforce_all_finite,\n\u001b[0;32m    647\u001b[0m )\n\u001b[0;32m    648\u001b[0m \u001b[38;5;28;01mif\u001b[39;00m issparse(X) \u001b[38;5;129;01mand\u001b[39;00m (X\u001b[38;5;241m.\u001b[39mindices\u001b[38;5;241m.\u001b[39mdtype \u001b[38;5;241m!=\u001b[39m np\u001b[38;5;241m.\u001b[39mintc \u001b[38;5;129;01mor\u001b[39;00m X\u001b[38;5;241m.\u001b[39mindptr\u001b[38;5;241m.\u001b[39mdtype \u001b[38;5;241m!=\u001b[39m np\u001b[38;5;241m.\u001b[39mintc):\n\u001b[0;32m    649\u001b[0m     \u001b[38;5;28;01mraise\u001b[39;00m \u001b[38;5;167;01mValueError\u001b[39;00m(\u001b[38;5;124m\"\u001b[39m\u001b[38;5;124mNo support for np.int64 index based sparse matrices\u001b[39m\u001b[38;5;124m\"\u001b[39m)\n",
      "File \u001b[1;32m~\\anaconda3\\Lib\\site-packages\\sklearn\\base.py:608\u001b[0m, in \u001b[0;36mBaseEstimator._validate_data\u001b[1;34m(self, X, y, reset, validate_separately, cast_to_ndarray, **check_params)\u001b[0m\n\u001b[0;32m    537\u001b[0m \u001b[38;5;28;01mdef\u001b[39;00m \u001b[38;5;21m_validate_data\u001b[39m(\n\u001b[0;32m    538\u001b[0m     \u001b[38;5;28mself\u001b[39m,\n\u001b[0;32m    539\u001b[0m     X\u001b[38;5;241m=\u001b[39m\u001b[38;5;124m\"\u001b[39m\u001b[38;5;124mno_validation\u001b[39m\u001b[38;5;124m\"\u001b[39m,\n\u001b[1;32m   (...)\u001b[0m\n\u001b[0;32m    544\u001b[0m     \u001b[38;5;241m*\u001b[39m\u001b[38;5;241m*\u001b[39mcheck_params,\n\u001b[0;32m    545\u001b[0m ):\n\u001b[0;32m    546\u001b[0m \u001b[38;5;250m    \u001b[39m\u001b[38;5;124;03m\"\"\"Validate input data and set or check the `n_features_in_` attribute.\u001b[39;00m\n\u001b[0;32m    547\u001b[0m \n\u001b[0;32m    548\u001b[0m \u001b[38;5;124;03m    Parameters\u001b[39;00m\n\u001b[1;32m   (...)\u001b[0m\n\u001b[0;32m    606\u001b[0m \u001b[38;5;124;03m        validated.\u001b[39;00m\n\u001b[0;32m    607\u001b[0m \u001b[38;5;124;03m    \"\"\"\u001b[39;00m\n\u001b[1;32m--> 608\u001b[0m     \u001b[38;5;28mself\u001b[39m\u001b[38;5;241m.\u001b[39m_check_feature_names(X, reset\u001b[38;5;241m=\u001b[39mreset)\n\u001b[0;32m    610\u001b[0m     \u001b[38;5;28;01mif\u001b[39;00m y \u001b[38;5;129;01mis\u001b[39;00m \u001b[38;5;28;01mNone\u001b[39;00m \u001b[38;5;129;01mand\u001b[39;00m \u001b[38;5;28mself\u001b[39m\u001b[38;5;241m.\u001b[39m_get_tags()[\u001b[38;5;124m\"\u001b[39m\u001b[38;5;124mrequires_y\u001b[39m\u001b[38;5;124m\"\u001b[39m]:\n\u001b[0;32m    611\u001b[0m         \u001b[38;5;28;01mraise\u001b[39;00m \u001b[38;5;167;01mValueError\u001b[39;00m(\n\u001b[0;32m    612\u001b[0m             \u001b[38;5;124mf\u001b[39m\u001b[38;5;124m\"\u001b[39m\u001b[38;5;124mThis \u001b[39m\u001b[38;5;132;01m{\u001b[39;00m\u001b[38;5;28mself\u001b[39m\u001b[38;5;241m.\u001b[39m\u001b[38;5;18m__class__\u001b[39m\u001b[38;5;241m.\u001b[39m\u001b[38;5;18m__name__\u001b[39m\u001b[38;5;132;01m}\u001b[39;00m\u001b[38;5;124m estimator \u001b[39m\u001b[38;5;124m\"\u001b[39m\n\u001b[0;32m    613\u001b[0m             \u001b[38;5;124m\"\u001b[39m\u001b[38;5;124mrequires y to be passed, but the target y is None.\u001b[39m\u001b[38;5;124m\"\u001b[39m\n\u001b[0;32m    614\u001b[0m         )\n",
      "File \u001b[1;32m~\\anaconda3\\Lib\\site-packages\\sklearn\\base.py:535\u001b[0m, in \u001b[0;36mBaseEstimator._check_feature_names\u001b[1;34m(self, X, reset)\u001b[0m\n\u001b[0;32m    530\u001b[0m \u001b[38;5;28;01mif\u001b[39;00m \u001b[38;5;129;01mnot\u001b[39;00m missing_names \u001b[38;5;129;01mand\u001b[39;00m \u001b[38;5;129;01mnot\u001b[39;00m unexpected_names:\n\u001b[0;32m    531\u001b[0m     message \u001b[38;5;241m+\u001b[39m\u001b[38;5;241m=\u001b[39m (\n\u001b[0;32m    532\u001b[0m         \u001b[38;5;124m\"\u001b[39m\u001b[38;5;124mFeature names must be in the same order as they were in fit.\u001b[39m\u001b[38;5;130;01m\\n\u001b[39;00m\u001b[38;5;124m\"\u001b[39m\n\u001b[0;32m    533\u001b[0m     )\n\u001b[1;32m--> 535\u001b[0m \u001b[38;5;28;01mraise\u001b[39;00m \u001b[38;5;167;01mValueError\u001b[39;00m(message)\n",
      "\u001b[1;31mValueError\u001b[0m: The feature names should match those that were passed during fit.\nFeature names must be in the same order as they were in fit.\n"
     ]
    }
   ],
   "source": [
    "# Prédiction pour la nouvelle donnée\n",
    "new_prediction = predict_new_data(loaded_model, new_data, scaler, numerical_columns)\n",
    "print(\"Prédiction pour la nouvelle donnée:\", new_prediction)"
   ]
  },
  {
   "cell_type": "code",
   "execution_count": null,
   "id": "19cebfe8-7210-4533-860f-46ade86ed727",
   "metadata": {},
   "outputs": [],
   "source": []
  }
 ],
 "metadata": {
  "kernelspec": {
   "display_name": "Python [conda env:base] *",
   "language": "python",
   "name": "conda-base-py"
  },
  "language_info": {
   "codemirror_mode": {
    "name": "ipython",
    "version": 3
   },
   "file_extension": ".py",
   "mimetype": "text/x-python",
   "name": "python",
   "nbconvert_exporter": "python",
   "pygments_lexer": "ipython3",
   "version": "3.12.7"
  }
 },
 "nbformat": 4,
 "nbformat_minor": 5
}
